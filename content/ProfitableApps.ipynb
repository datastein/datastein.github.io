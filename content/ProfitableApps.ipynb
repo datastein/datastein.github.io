{
 "cells": [
  {
   "cell_type": "markdown",
   "metadata": {},
   "source": [
    "# <center><span style=\"color:green\"> Got Profit? Identifying the Most Profitable App Profiles for the App Store and Google Play Markets </span></center>\n",
    "--------------\n",
    "The goal of this project is to demonstrate how a data analyst working for a company that builds Android and iOS mobile apps could identify which type of mobile app profiles are more profitable for the App Store and Google Play markets.\n",
    "\n",
    "In this company, we strive to build apps that are free to download and install, and the primary source of our revenue comes from in-app advertisement. Therefore, our goal is to analyze data to aid our developers in understanding what types of apps attract more users."
   ]
  },
  {
   "cell_type": "markdown",
   "metadata": {},
   "source": [
    "## <span style=\"color:green\">  Getting and Diving into the Data </span>\n",
    "The growth of the app-space has been phenomenal! There is quite a bit of data for us to walk through. As of September 2018, there were approximately 2.1 million Android apps, and 2.0 million iOS apps available on the App store (Source: [Statista](https://www.statista.com/statistics/276623/number-of-apps-available-in-leading-app-stores/) )\n",
    "\n",
    "Since the acquisition of data can be a costly endeavor and this is a practice exercise, we first determined if there was any relevant existing data available at no cost. Fortunately, there are two preexisting datasets that are suitable for our purpose:\n",
    "\n",
    "1. A data set that contains data from approximately 10k Android apps from Google    Play which was collected in AUG2018. (Source: [Kaggle](https://www.kaggle.com/lava18/google-play-store-apps/home) )\n",
    "2. A data set containing data from about 7k iOS apps from the App Store which      was collected in JUL2007. (Source: [Kaggle](https://www.kaggle.com/ramamet4/app-store-apple-data-set-10k-apps/home))\n",
    "\n",
    "We will start first by opening up the datasets:"
   ]
  },
  {
   "cell_type": "code",
   "execution_count": 2,
   "metadata": {
    "collapsed": false
   },
   "outputs": [],
   "source": [
    "from csv import reader\n",
    "\n",
    "### First we will import and open the Google Play Dataset which has been saved locally###\n",
    "gp_opened_file = open('googleplaystore.csv')\n",
    "gp_read_file = reader(gp_opened_file)\n",
    "android = list (gp_read_file)\n",
    "android_header = android[0]\n",
    "android= android[1:]\n",
    "\n",
    "### Opening up the iOS dataset ###\n",
    "i_opened_file = open('AppleStore.csv')\n",
    "i_read_file = reader(i_opened_file)\n",
    "ios = list (i_read_file)\n",
    "ios_header = ios[0]\n",
    "ios= ios[1:]"
   ]
  },
  {
   "cell_type": "markdown",
   "metadata": {},
   "source": [
    "### <span style=\"color:green\">Exploring the data </span>\n",
    "In order to explore the datasets better, a new function called `explore_data()` will be created. This function allows one to repeatedly print rows of lists in a readable way. \n",
    "The `explore_data()` function:\n",
    "- **Input:** This function takes in four parameters:\n",
    "    - `dataset`: Expects a list of lists with **<span style=\"color:red\"> no header </span>**.\n",
    "    - `start` and `end`: Integers that represent the starting and ending indices\n",
    "      of a slice from the data set. \n",
    "    - `rows_and_columns`: A Boolean and has `False` as default. This prints the\n",
    "       rows and columns if it is set to `True`."
   ]
  },
  {
   "cell_type": "code",
   "execution_count": 3,
   "metadata": {
    "collapsed": false,
    "scrolled": true
   },
   "outputs": [
    {
     "name": "stdout",
     "output_type": "stream",
     "text": [
      "Here is the start of the Android dataset:\n",
      "----------------------------------------\n",
      "['App', 'Category', 'Rating', 'Reviews', 'Size', 'Installs', 'Type', 'Price', 'Content Rating', 'Genres', 'Last Updated', 'Current Ver', 'Android Ver']\n",
      "\n",
      "\n",
      "['Photo Editor & Candy Camera & Grid & ScrapBook', 'ART_AND_DESIGN', '4.1', '159', '19M', '10,000+', 'Free', '0', 'Everyone', 'Art & Design', 'January 7, 2018', '1.0.0', '4.0.3 and up']\n",
      "\n",
      "\n",
      "['Coloring book moana', 'ART_AND_DESIGN', '3.9', '967', '14M', '500,000+', 'Free', '0', 'Everyone', 'Art & Design;Pretend Play', 'January 15, 2018', '2.0.0', '4.0.3 and up']\n",
      "\n",
      "\n",
      "Number of rows: 10841\n",
      "Number of columns: 13\n",
      "\n",
      "\n",
      "Here is the start of the iOS dataset:\n",
      "-------------------------------------\n",
      "\n",
      "\n",
      "['id', 'track_name', 'size_bytes', 'currency', 'price', 'rating_count_tot', 'rating_count_ver', 'user_rating', 'user_rating_ver', 'ver', 'cont_rating', 'prime_genre', 'sup_devices.num', 'ipadSc_urls.num', 'lang.num', 'vpp_lic']\n",
      "\n",
      "\n",
      "['284882215', 'Facebook', '389879808', 'USD', '0.0', '2974676', '212', '3.5', '3.5', '95.0', '4+', 'Social Networking', '37', '1', '29', '1']\n",
      "\n",
      "\n",
      "['389801252', 'Instagram', '113954816', 'USD', '0.0', '2161558', '1289', '4.5', '4.0', '10.23', '12+', 'Photo & Video', '37', '0', '29', '1']\n",
      "\n",
      "\n",
      "Number of rows: 7197\n",
      "Number of columns: 16\n"
     ]
    }
   ],
   "source": [
    "def explore_data(dataset, start, end, rows_and_columns =False):\n",
    "    dataset_slice = dataset[start:end]\n",
    "    for row in dataset_slice:\n",
    "        print(row)\n",
    "        print('\\n') # Add an empty line between each row\n",
    "    \n",
    "    if rows_and_columns:\n",
    "        print('Number of rows:', len(dataset))\n",
    "        print('Number of columns:', len(dataset[0]))\n",
    "        \n",
    "### Let's open up our datasets with our new function ###\n",
    "print(\"Here is the start of the Android dataset:\")\n",
    "print ('----------------------------------------')\n",
    "print (android_header) # remember we had seperated this out\n",
    "print('\\n')\n",
    "explore_data (android, 0, 2, True)\n",
    "print('\\n')\n",
    "print ('Here is the start of the iOS dataset:')\n",
    "print ('-------------------------------------')\n",
    "print('\\n')\n",
    "print (ios_header)\n",
    "print('\\n')  \n",
    "explore_data (ios, 0, 2, True)"
   ]
  },
  {
   "cell_type": "markdown",
   "metadata": {},
   "source": [
    "Both sets of data are long and appear to have similar content to the data. There are a few useful columns that could be useful for our purposes: *'App', 'Category', 'Reviews', 'Installs', 'Type', 'Price',* and *'Genres'* in the Android lists. In the iOS, the useful categories appear to be: *'track_name', 'currency','cont_rating', 'prime_genre',* and *'user_rating'.\n",
    "\n",
    "-----------------------------------------\n",
    "## <span style = \"color:green\"> Lets clean it up! </span>\n"
   ]
  },
  {
   "cell_type": "markdown",
   "metadata": {
    "collapsed": true
   },
   "source": [
    "In the previous section, we found that the two datasets appear to contain data of value for our analysis. However, it didn't exactly fit our purposes exactly. Remember we are doing this for a very specific audience and we need data that fits the following criteria:\n",
    "\n",
    "* The apps need to be *free* to download and install\n",
    "* The apps need to be geared to *English-speakers*\n",
    "\n",
    "Beyond this, we need to generally clean up both sets of data so that it easy to use, contains no errors, and no duplicate data. This section will walk you through how this was achieved.\n",
    "\n",
    "### <span style=\"color:green\"> Removing Data Errors </span>\n",
    "\n",
    "In the online [discussion board](https://www.kaggle.com/lava18/google-play-store-apps/discussion) for the Google Play dataset, one of the [discussions]( https://www.kaggle.com/lava18/google-play-store-apps/discussion/66015) describes an error on row 10472.\n",
    "\n",
    "First, let us explore the nature of the error by downloaded the faulty row:\n"
   ]
  },
  {
   "cell_type": "code",
   "execution_count": 4,
   "metadata": {
    "collapsed": false
   },
   "outputs": [
    {
     "name": "stdout",
     "output_type": "stream",
     "text": [
      "Here is some correct data:\n",
      "---------------------------\n",
      "\n",
      "\n",
      "['App', 'Category', 'Rating', 'Reviews', 'Size', 'Installs', 'Type', 'Price', 'Content Rating', 'Genres', 'Last Updated', 'Current Ver', 'Android Ver']\n",
      "\n",
      "\n",
      "['Coloring book moana', 'ART_AND_DESIGN', '3.9', '967', '14M', '500,000+', 'Free', '0', 'Everyone', 'Art & Design;Pretend Play', 'January 15, 2018', '2.0.0', '4.0.3 and up']\n",
      "\n",
      "\n",
      "Here is the faulty data:\n",
      "------------------------\n",
      "\n",
      "\n",
      "['Life Made WI-Fi Touchscreen Photo Frame', '1.9', '19', '3.0M', '1,000+', 'Free', '0', 'Everyone', '', 'February 11, 2018', '1.0.19', '4.0 and up']\n"
     ]
    }
   ],
   "source": [
    "print(\"Here is some correct data:\")\n",
    "print(\"---------------------------\")\n",
    "print('\\n')\n",
    "print(android_header)\n",
    "print('\\n')\n",
    "print(android[1])\n",
    "print('\\n')\n",
    "print(\"Here is the faulty data:\")\n",
    "print(\"------------------------\")\n",
    "print('\\n')\n",
    "print(android[10472])"
   ]
  },
  {
   "cell_type": "markdown",
   "metadata": {},
   "source": [
    "We can now see what the discussion board was commenting on. This row is missing the 'ratings' category and all the remaining columns have shifted over! \n",
    "\n",
    "We will now remove this line:"
   ]
  },
  {
   "cell_type": "code",
   "execution_count": 5,
   "metadata": {
    "collapsed": false
   },
   "outputs": [
    {
     "name": "stdout",
     "output_type": "stream",
     "text": [
      "Before: 10841\n",
      "After: 10840\n"
     ]
    }
   ],
   "source": [
    "print(\"Before:\", len(android))\n",
    "del(android[10472])\n",
    "print(\"After:\", len(android))\n"
   ]
  },
  {
   "cell_type": "markdown",
   "metadata": {},
   "source": [
    "The erroneous row is now missing from the above data. In reading through the [discussion section[](https://www.kaggle.com/ramamet4/app-store-apple-data-set-10k-apps/discussion) of the iOS data set, no reports were made regarding wrong data. Therefore, we will move onto our next task.\n",
    "\n",
    "### <span style=\"color:green\"> Removing Duplicate Enteries </span>\n",
    "\n",
    "If we were to walk through both datasets, we might find that there are duplicate enteries for the same app. We need to remove these if we find them. \n",
    "\n",
    "Let's first see what apps might be duplicated in the Google Play list:"
   ]
  },
  {
   "cell_type": "code",
   "execution_count": 6,
   "metadata": {
    "collapsed": false
   },
   "outputs": [
    {
     "name": "stdout",
     "output_type": "stream",
     "text": [
      "Number of duplicate Android apps: 1181\n",
      "\n",
      "\n",
      "Examples of duplicate Android apps: ['Quick PDF Scanner + OCR FREE', 'Box', 'Google My Business', 'ZOOM Cloud Meetings', 'join.me - Simple Meetings', 'Box', 'Zenefits', 'Google Ads', 'Google My Business', 'Slack']\n"
     ]
    }
   ],
   "source": [
    "# Initialize empty lists\n",
    "duplicate_android_apps = []\n",
    "unique_apps = []\n",
    "\n",
    "# Create list of duplicate apps:\n",
    "for app in android:\n",
    "    name = app[0]\n",
    "    if name in unique_apps:\n",
    "        duplicate_android_apps.append(name)\n",
    "    else:\n",
    "        unique_apps.append(name)\n",
    "\n",
    "print('Number of duplicate Android apps:', len(duplicate_android_apps))\n",
    "print('\\n')\n",
    "print('Examples of duplicate Android apps:', duplicate_android_apps[:10])"
   ]
  },
  {
   "cell_type": "markdown",
   "metadata": {},
   "source": [
    "There are 1181 duplicated Android apps. Let look at an example using 'Slack':\n"
   ]
  },
  {
   "cell_type": "code",
   "execution_count": 7,
   "metadata": {
    "collapsed": false
   },
   "outputs": [
    {
     "name": "stdout",
     "output_type": "stream",
     "text": [
      "['App', 'Category', 'Rating', 'Reviews', 'Size', 'Installs', 'Type', 'Price', 'Content Rating', 'Genres', 'Last Updated', 'Current Ver', 'Android Ver']\n",
      "\n",
      "\n",
      "['Slack', 'BUSINESS', '4.4', '51507', 'Varies with device', '5,000,000+', 'Free', '0', 'Everyone', 'Business', 'August 2, 2018', 'Varies with device', 'Varies with device']\n",
      "['Slack', 'BUSINESS', '4.4', '51507', 'Varies with device', '5,000,000+', 'Free', '0', 'Everyone', 'Business', 'August 2, 2018', 'Varies with device', 'Varies with device']\n",
      "['Slack', 'BUSINESS', '4.4', '51510', 'Varies with device', '5,000,000+', 'Free', '0', 'Everyone', 'Business', 'August 2, 2018', 'Varies with device', 'Varies with device']\n"
     ]
    }
   ],
   "source": [
    "print(android_header)\n",
    "print('\\n')\n",
    "for app in android:\n",
    "    name = app[0]\n",
    "    \n",
    "    if name == \"Slack\":\n",
    "        print(app)"
   ]
  },
  {
   "cell_type": "markdown",
   "metadata": {},
   "source": [
    "From the above information, we can see that the only difference between each of these rows is the `'Review'` category which corresponds to the number of reviews. Therefore, the main difference is the time at which the data was collected. We might anticipate that the higher the number of reviews there are, the more recent the data is. Therefore, we will remove all the duplicates but keep the app row with the highest number of reviews.\n",
    "\n",
    "In order to do this efficiently, we will:\n",
    "\n",
    "1.) Create a dictionary where each dictionary key is a unique app name and the\n",
    "    corresponding dictionary value refers to the highest ratings number.\n",
    "    \n",
    "2.) Use the stored information in the dictionary and create a new data set with\n",
    "    only one entry per app."
   ]
  },
  {
   "cell_type": "code",
   "execution_count": 8,
   "metadata": {
    "collapsed": false
   },
   "outputs": [],
   "source": [
    "# Initialize new dictionaries\n",
    "reviews_max ={} #Dictionary with the maximum number of views\n",
    "android_clean = [] # contains the clean data\n",
    "already_added = [] # contains the names of the cleaned entries\n",
    "\n",
    "#***********************************\n",
    "#* Create a for loop that runs through and finds the maximum number of reviews\n",
    "#***********************************\n",
    "for app in android:\n",
    "    name = app[0]\n",
    "    n_reviews = float(app[3])\n",
    "    \n",
    "    if name in reviews_max and reviews_max[name] < n_reviews:\n",
    "        reviews_max[name] = n_reviews\n",
    "    \n",
    "    if name not in reviews_max:\n",
    "        reviews_max[name]=n_reviews\n",
    "\n"
   ]
  },
  {
   "cell_type": "markdown",
   "metadata": {},
   "source": [
    "We will now use our new dictionary for step 2: removing the duplicate rows."
   ]
  },
  {
   "cell_type": "code",
   "execution_count": 9,
   "metadata": {
    "collapsed": false
   },
   "outputs": [
    {
     "name": "stdout",
     "output_type": "stream",
     "text": [
      "The original number of apps was: 10840\n",
      "the number of non-duplicated apps is expected to be: 9659\n",
      "Our new dictionary has: 9659 values\n",
      "The cleaned data has  9659 rows\n",
      "\n",
      "\n",
      "['Photo Editor & Candy Camera & Grid & ScrapBook', 'ART_AND_DESIGN', '4.1', '159', '19M', '10,000+', 'Free', '0', 'Everyone', 'Art & Design', 'January 7, 2018', '1.0.0', '4.0.3 and up']\n",
      "\n",
      "\n",
      "['U Launcher Lite – FREE Live Cool Themes, Hide Apps', 'ART_AND_DESIGN', '4.7', '87510', '8.7M', '5,000,000+', 'Free', '0', 'Everyone', 'Art & Design', 'August 1, 2018', '1.2.4', '4.0.3 and up']\n",
      "\n",
      "\n",
      "['Sketch - Draw & Paint', 'ART_AND_DESIGN', '4.5', '215644', '25M', '50,000,000+', 'Free', '0', 'Teen', 'Art & Design', 'June 8, 2018', 'Varies with device', '4.2 and up']\n",
      "\n",
      "\n",
      "Number of rows: 9659\n",
      "Number of columns: 13\n"
     ]
    }
   ],
   "source": [
    "for app in android:\n",
    "    name =app[0]\n",
    "    n_reviews = float(app[3])\n",
    "    \n",
    "    if reviews_max[name] == n_reviews and name not in already_added:\n",
    "        android_clean.append(app)\n",
    "        already_added.append(name)\n",
    "        \n",
    "print('The original number of apps was:', len(android))\n",
    "print ('the number of non-duplicated apps is expected to be:',len(android)-1181)\n",
    "print('Our new dictionary has:', len(reviews_max), 'values')        \n",
    "print('The cleaned data has ', len(android_clean), 'rows')\n",
    "print('\\n')\n",
    "explore_data(android_clean, 0,3, True)"
   ]
  },
  {
   "cell_type": "markdown",
   "metadata": {},
   "source": [
    "### <span style = \"color: green\">Remove the Non-English Apps </span>\n",
    "\n",
    "Some of the apps appear to not be geared towards English speakers. For example:\n"
   ]
  },
  {
   "cell_type": "code",
   "execution_count": 10,
   "metadata": {
    "collapsed": false
   },
   "outputs": [
    {
     "name": "stdout",
     "output_type": "stream",
     "text": [
      "iOS App:  爱奇艺PPS -《欢乐颂2》电视剧热播\n",
      "Android App: 中国語 AQリスニング\n"
     ]
    }
   ],
   "source": [
    "print('iOS App: ',ios[813][1])\n",
    "print('Android App:', android_clean[4412][0])"
   ]
  },
  {
   "cell_type": "markdown",
   "metadata": {},
   "source": [
    "For today's study, we aren't interested in keeping these apps. Therefore, we need to find a way to remove them. There are lots of ways that we can do this but one way is to remove any name containing a symbol that is not commonly found in English text. English text commonly contains:\n",
    "\n",
    "* Numbers composed of digits between 0 to 9\n",
    "* Punctuation marks: (.,!, ?, ;)\n",
    "* Other symbols: (+,*, /)\n",
    "* Upper and lower case letters of the English alphabet\n",
    "\n",
    "Behind the scenes in Python, each character used in a string has a corresponding number associated with it. For example for character <span style= \"color: red\"> `'a'`</span> the corresponding number is 97. For character <span style= \"color: red\"> `'爱'`</span> the corresponding number is 29,233. We can get each corresponding number with the `ord()` function."
   ]
  },
  {
   "cell_type": "code",
   "execution_count": 11,
   "metadata": {
    "collapsed": false
   },
   "outputs": [
    {
     "name": "stdout",
     "output_type": "stream",
     "text": [
      "97\n",
      "65\n",
      "29233\n",
      "53\n",
      "43\n"
     ]
    }
   ],
   "source": [
    "print(ord('a'))\n",
    "print(ord('A'))\n",
    "print(ord('爱'))\n",
    "print(ord('5'))\n",
    "print(ord('+'))"
   ]
  },
  {
   "cell_type": "markdown",
   "metadata": {},
   "source": [
    "The numbers and characters that we commonly use in an English text are all int he range 0 to 127, according the American Standard Code for Information Interchange (ASCII) system. Using this number range, we can build a function that detectes whether a character belongs to the set of common English characters. \n",
    "\n",
    "If an app name includes a character greater than 127, then it most likely has a non-English name. Since our names are strings, we can make use of the indexing to select an individual character and loop through it. \n",
    "\n",
    "To start things off, we will write a function that checks if a given string includes a non-english character and returns false if it is probably non-English."
   ]
  },
  {
   "cell_type": "code",
   "execution_count": 12,
   "metadata": {
    "collapsed": false
   },
   "outputs": [
    {
     "name": "stdout",
     "output_type": "stream",
     "text": [
      "Verifying that our English detection app works:\n",
      "Checking \"爱奇艺PPS -《欢乐颂2》电视剧热播\":\n",
      "False\n",
      "Checking \"Docs To Go™ Free Office Suite\":\n",
      "False\n",
      "Checking \"Instagram\": True\n",
      "Checking \"Instagram\": True\n",
      "Checking \"Instachat 😜\": False\n"
     ]
    }
   ],
   "source": [
    "def english_check (string):\n",
    "    for character in string:\n",
    "        if ord(character)> 127:\n",
    "            return False\n",
    "    else:\n",
    "        return True\n",
    "    \n",
    "print('Verifying that our English detection app works:')\n",
    "print('Checking \"爱奇艺PPS -《欢乐颂2》电视剧热播\":')\n",
    "print( english_check('爱奇艺PPS -《欢乐颂2》电视剧热播'))\n",
    "print('Checking \"Docs To Go™ Free Office Suite\":')\n",
    "print( english_check('Docs To Go™ Free Office Suite'))\n",
    "print('Checking \"Instagram\":', english_check('Instagram'))\n",
    "print('Checking \"Instagram\":', english_check('Instagram'))\n",
    "print('Checking \"Instachat 😜\":', english_check('Instachat 😜'))"
   ]
  },
  {
   "cell_type": "markdown",
   "metadata": {},
   "source": [
    "Oops!! We excluded some data accidentally... not good. Let's try this again to maximize the amount of data included. Let's modify the function above to exclude only those apps with non-English characters greater than 3 characters."
   ]
  },
  {
   "cell_type": "code",
   "execution_count": 13,
   "metadata": {
    "collapsed": false
   },
   "outputs": [
    {
     "name": "stdout",
     "output_type": "stream",
     "text": [
      "Verifying that our English detection app works:\n",
      "Checking \"爱奇艺PPS -《欢乐颂2》电视剧热播\":\n",
      "False\n",
      "Checking \"Docs To Go™ Free Office Suite\":\n",
      "True\n",
      "Checking \"Instagram\": True\n",
      "Checking \"Instagram\": True\n",
      "Checking \"Instachat 😜\": True\n",
      "Checking \"Hola Mi Amo\": True\n"
     ]
    }
   ],
   "source": [
    "def english_check(string):\n",
    "    non_ascii = 0\n",
    "    for character in string:\n",
    "        if ord(character) > 127:\n",
    "            non_ascii += 1\n",
    "    if non_ascii > 3:\n",
    "        return False\n",
    "    else:\n",
    "        return True\n",
    "    \n",
    "# Let's recheck those values!\n",
    "print('Verifying that our English detection app works:')\n",
    "print('Checking \"爱奇艺PPS -《欢乐颂2》电视剧热播\":')\n",
    "print( english_check('爱奇艺PPS -《欢乐颂2》电视剧热播'))\n",
    "print('Checking \"Docs To Go™ Free Office Suite\":')\n",
    "print( english_check('Docs To Go™ Free Office Suite'))\n",
    "print('Checking \"Instagram\":', english_check('Instagram'))\n",
    "print('Checking \"Instagram\":', english_check('Instagram'))\n",
    "print('Checking \"Instachat 😜\":', english_check('Instachat 😜'))\n",
    "print('Checking \"Hola Mi Amo\":', english_check('Hola Mi Amo'))"
   ]
  },
  {
   "cell_type": "markdown",
   "metadata": {},
   "source": [
    "Still not perfect. There might still be hispanic apps that pass through but it should be good enough for our analysis. \n",
    "\n",
    "Lets now use our `english_check()` function to filter out the non-English data apps in each dataset:"
   ]
  },
  {
   "cell_type": "code",
   "execution_count": 14,
   "metadata": {
    "collapsed": false
   },
   "outputs": [
    {
     "name": "stdout",
     "output_type": "stream",
     "text": [
      "['Photo Editor & Candy Camera & Grid & ScrapBook', 'ART_AND_DESIGN', '4.1', '159', '19M', '10,000+', 'Free', '0', 'Everyone', 'Art & Design', 'January 7, 2018', '1.0.0', '4.0.3 and up']\n",
      "\n",
      "\n",
      "['U Launcher Lite – FREE Live Cool Themes, Hide Apps', 'ART_AND_DESIGN', '4.7', '87510', '8.7M', '5,000,000+', 'Free', '0', 'Everyone', 'Art & Design', 'August 1, 2018', '1.2.4', '4.0.3 and up']\n",
      "\n",
      "\n",
      "['Sketch - Draw & Paint', 'ART_AND_DESIGN', '4.5', '215644', '25M', '50,000,000+', 'Free', '0', 'Teen', 'Art & Design', 'June 8, 2018', 'Varies with device', '4.2 and up']\n",
      "\n",
      "\n",
      "Number of rows: 9614\n",
      "Number of columns: 13\n",
      "\n",
      "\n",
      "['284882215', 'Facebook', '389879808', 'USD', '0.0', '2974676', '212', '3.5', '3.5', '95.0', '4+', 'Social Networking', '37', '1', '29', '1']\n",
      "\n",
      "\n",
      "['389801252', 'Instagram', '113954816', 'USD', '0.0', '2161558', '1289', '4.5', '4.0', '10.23', '12+', 'Photo & Video', '37', '0', '29', '1']\n",
      "\n",
      "\n",
      "['529479190', 'Clash of Clans', '116476928', 'USD', '0.0', '2130805', '579', '4.5', '4.5', '9.24.12', '9+', 'Games', '38', '5', '18', '1']\n",
      "\n",
      "\n",
      "Number of rows: 6183\n",
      "Number of columns: 16\n"
     ]
    }
   ],
   "source": [
    "android_english = []\n",
    "ios_english = []\n",
    "\n",
    "for app in android_clean:\n",
    "    name = app[0]\n",
    "    if english_check(name):\n",
    "        android_english.append(app)\n",
    "\n",
    "for app in ios:\n",
    "    name = app[1]\n",
    "    if english_check(name):\n",
    "        ios_english.append(app)\n",
    "        \n",
    "explore_data(android_english, 0,3, True)\n",
    "print('\\n')\n",
    "explore_data(ios_english, 0,3, True)"
   ]
  },
  {
   "cell_type": "markdown",
   "metadata": {},
   "source": [
    "From the above we can see that we were left with 9614 Android apps and 6183 iOS apps. This should be plenty of data for our initial run.\n",
    "\n",
    "### <span style=\"color: green\"> Isolating the Free Apps </span>\n",
    "\n",
    "Since we should be working with apps that are free to download and install, our data sets need to only contain apps with 0 cost."
   ]
  },
  {
   "cell_type": "code",
   "execution_count": 15,
   "metadata": {
    "collapsed": false
   },
   "outputs": [
    {
     "name": "stdout",
     "output_type": "stream",
     "text": [
      "Final Android rows: 8864\n",
      "Final iOS rows: 3222\n"
     ]
    }
   ],
   "source": [
    "android_final = []\n",
    "ios_final = []\n",
    "\n",
    "for app in android_english:\n",
    "    price = app[7]\n",
    "    if price == '0':\n",
    "        android_final.append(app)\n",
    "        \n",
    "for app in ios_english:\n",
    "    price = app[4]\n",
    "    if price == '0.0':\n",
    "        ios_final.append(app)\n",
    "        \n",
    "print('Final Android rows:', len(android_final))\n",
    "print('Final iOS rows:', len(ios_final))"
   ]
  },
  {
   "cell_type": "markdown",
   "metadata": {},
   "source": [
    "We are left with > 10k apps. This should still be enough for our analysis.\n",
    "\n",
    "## <span style=\"color:green\"> An Analysis of the Most Common Apps by Genre </span>\n",
    "\n",
    "Our end-goal is to build an a successful app on Google Play and iOS. To minimize the overall work and cost, we will accomplish this in three stages:\n",
    "\n",
    "1.) Build the app on Google Play.\n",
    "2.) Evaluate its success in six months. \n",
    "3.) IF the app is working well on Google Play and generating interest, then the developers will begin to develop the app for iOS. \n",
    "\n",
    "Since our end goal is to see how the apps We will begin to get a sense of what are the most common genres for each market. to do this we will build frequency tables for our data sets.\n",
    "\n",
    "\n"
   ]
  },
  {
   "cell_type": "code",
   "execution_count": 16,
   "metadata": {
    "collapsed": false
   },
   "outputs": [
    {
     "name": "stdout",
     "output_type": "stream",
     "text": [
      "['App', 'Category', 'Rating', 'Reviews', 'Size', 'Installs', 'Type', 'Price', 'Content Rating', 'Genres', 'Last Updated', 'Current Ver', 'Android Ver']\n",
      "\n",
      "\n",
      "['id', 'track_name', 'size_bytes', 'currency', 'price', 'rating_count_tot', 'rating_count_ver', 'user_rating', 'user_rating_ver', 'ver', 'cont_rating', 'prime_genre', 'sup_devices.num', 'ipadSc_urls.num', 'lang.num', 'vpp_lic']\n"
     ]
    }
   ],
   "source": [
    "print(android_header)\n",
    "print('\\n')\n",
    "print(ios_header)\n"
   ]
  },
  {
   "cell_type": "markdown",
   "metadata": {},
   "source": [
    "In order to make short work of walking through the data, two functions are made:\n",
    "\n",
    "1. `frequency_table`: Builds a table out of the values at the\n",
    "    index in the dataset table. It then calculates the percentage \n",
    "    at which a given category appears. \n",
    "2. `display_table`: Takes the table, sorts it from greatest to the\n",
    "    least and prints it to the screen. "
   ]
  },
  {
   "cell_type": "code",
   "execution_count": 17,
   "metadata": {
    "collapsed": false
   },
   "outputs": [],
   "source": [
    "def frequency_table (dataset, index):\n",
    "    table = {}\n",
    "    total = 0\n",
    "    \n",
    "    for row in dataset:\n",
    "        total += 1\n",
    "        value = row[index]\n",
    "        if value in table:\n",
    "            table[value] += 1\n",
    "        else:\n",
    "            table[value] = 1\n",
    "            \n",
    "    table_percentage = {}    \n",
    "    for key in table:\n",
    "        percentage = (table[key]/total)*100\n",
    "        table_percentage[key]=percentage\n",
    "    \n",
    "    return table_percentage\n",
    "\n",
    "def display_table (dataset, index):\n",
    "    table = frequency_table (dataset, index)\n",
    "    table_display = []\n",
    "    for key in table:\n",
    "        val_as_tuple = (table[key], key)\n",
    "        table_display.append(val_as_tuple)\n",
    "        \n",
    "    table_sorted = sorted(table_display, reverse = True)\n",
    "    for item in table_sorted:\n",
    "        print(item[1],':', round(item[0],2),'%')\n",
    "    "
   ]
  },
  {
   "cell_type": "markdown",
   "metadata": {},
   "source": [
    "We will start to walk through the dataset beginning with the genre."
   ]
  },
  {
   "cell_type": "code",
   "execution_count": 18,
   "metadata": {
    "collapsed": false
   },
   "outputs": [
    {
     "name": "stdout",
     "output_type": "stream",
     "text": [
      "Games : 58.16 %\n",
      "Entertainment : 7.88 %\n",
      "Photo & Video : 4.97 %\n",
      "Education : 3.66 %\n",
      "Social Networking : 3.29 %\n",
      "Shopping : 2.61 %\n",
      "Utilities : 2.51 %\n",
      "Sports : 2.14 %\n",
      "Music : 2.05 %\n",
      "Health & Fitness : 2.02 %\n",
      "Productivity : 1.74 %\n",
      "Lifestyle : 1.58 %\n",
      "News : 1.33 %\n",
      "Travel : 1.24 %\n",
      "Finance : 1.12 %\n",
      "Weather : 0.87 %\n",
      "Food & Drink : 0.81 %\n",
      "Reference : 0.56 %\n",
      "Business : 0.53 %\n",
      "Book : 0.43 %\n",
      "Navigation : 0.19 %\n",
      "Medical : 0.19 %\n",
      "Catalogs : 0.12 %\n"
     ]
    }
   ],
   "source": [
    "display_table(ios_final, -5)"
   ]
  },
  {
   "cell_type": "raw",
   "metadata": {},
   "source": [
    "In the list above, one can see that the most frequent category of free app in the iOS App Store is Games (58%). The next most frequent genre of app is Entertainment at a distant 8%. Photo and Video apps come in at 5% and education is in at 3%. \n",
    "\n",
    "It would appear that the App store is mostly interested in providing free fun apps over the more practical apps. Let's see if this holds for the Android market as well. "
   ]
  },
  {
   "cell_type": "code",
   "execution_count": 19,
   "metadata": {
    "collapsed": false
   },
   "outputs": [
    {
     "name": "stdout",
     "output_type": "stream",
     "text": [
      "FAMILY : 18.91 %\n",
      "GAME : 9.72 %\n",
      "TOOLS : 8.46 %\n",
      "BUSINESS : 4.59 %\n",
      "LIFESTYLE : 3.9 %\n",
      "PRODUCTIVITY : 3.89 %\n",
      "FINANCE : 3.7 %\n",
      "MEDICAL : 3.53 %\n",
      "SPORTS : 3.4 %\n",
      "PERSONALIZATION : 3.32 %\n",
      "COMMUNICATION : 3.24 %\n",
      "HEALTH_AND_FITNESS : 3.08 %\n",
      "PHOTOGRAPHY : 2.94 %\n",
      "NEWS_AND_MAGAZINES : 2.8 %\n",
      "SOCIAL : 2.66 %\n",
      "TRAVEL_AND_LOCAL : 2.34 %\n",
      "SHOPPING : 2.25 %\n",
      "BOOKS_AND_REFERENCE : 2.14 %\n",
      "DATING : 1.86 %\n",
      "VIDEO_PLAYERS : 1.79 %\n",
      "MAPS_AND_NAVIGATION : 1.4 %\n",
      "FOOD_AND_DRINK : 1.24 %\n",
      "EDUCATION : 1.16 %\n",
      "ENTERTAINMENT : 0.96 %\n",
      "LIBRARIES_AND_DEMO : 0.94 %\n",
      "AUTO_AND_VEHICLES : 0.93 %\n",
      "HOUSE_AND_HOME : 0.82 %\n",
      "WEATHER : 0.8 %\n",
      "EVENTS : 0.71 %\n",
      "PARENTING : 0.65 %\n",
      "ART_AND_DESIGN : 0.64 %\n",
      "COMICS : 0.62 %\n",
      "BEAUTY : 0.6 %\n"
     ]
    }
   ],
   "source": [
    "display_table(android_final, 1)"
   ]
  },
  {
   "cell_type": "markdown",
   "metadata": {},
   "source": [
    "The free English-speaking apps in the Android app store are more distributed than they were in the App Store. This time family based apps are present at the greatest percentage (18.9%). Games are the second most frequent apps at 9%. Practical apps make up the next three most popular genres (Business, Lifestyle and Productivity)."
   ]
  },
  {
   "cell_type": "markdown",
   "metadata": {
    "collapsed": true
   },
   "source": [
    "## <span style=\"color:green\"> App Popularity by Download </span>\n",
    "\n",
    "In the previous section, we identified the most popular genres in each store. We still need a way of identifying app popularity though. One way that we might do this is with a calculation of the average number of installs for each app genre. This is relatively easy for the Google Play data set as they have this information already stored under the `Installs` column. However, there is not a similar app in the iOS store. \n",
    "\n",
    "To address app popularity in the App Store dataset, we will need to be a bit more clever. We will use the `rating_count_tot` column as a proxy.  To do this we will do the following:\n",
    "\n",
    "1.) Seperate out the apps by genre like we did above.\n",
    "\n",
    "2.) Summing up the user ratings for the apps in each genre.\n",
    "\n",
    "3.) Divide the sum of the number of apps belonging to that genre (NOT the total\n",
    "    number of apps."
   ]
  },
  {
   "cell_type": "code",
   "execution_count": 20,
   "metadata": {
    "collapsed": false
   },
   "outputs": [
    {
     "name": "stdout",
     "output_type": "stream",
     "text": [
      "Utilities : 18684.46\n",
      "Education : 7003.98\n",
      "Sports : 23008.9\n",
      "Business : 7491.12\n",
      "Games : 22788.67\n",
      "Medical : 612.0\n",
      "Photo & Video : 28441.54\n",
      "Navigation : 86090.33\n",
      "News : 21248.02\n",
      "Lifestyle : 16485.76\n",
      "Music : 57326.53\n",
      "Catalogs : 4004.0\n",
      "Finance : 31467.94\n",
      "Health & Fitness : 23298.02\n",
      "Weather : 52279.89\n",
      "Food & Drink : 33333.92\n",
      "Book : 39758.5\n",
      "Travel : 28243.8\n",
      "Social Networking : 71548.35\n",
      "Shopping : 26919.69\n",
      "Reference : 74942.11\n",
      "Productivity : 21028.41\n",
      "Entertainment : 14029.83\n"
     ]
    }
   ],
   "source": [
    "# Identify the genre\n",
    "prime_genre= frequency_table (ios_final, -5)\n",
    "\n",
    "\n",
    "for genre in prime_genre:\n",
    "    total =0 # Will store the sum of user ratings for each genre\n",
    "    len_genre =0 # Will store the number of apps in each genre\n",
    "    \n",
    "    for app in ios_final:\n",
    "        genre_app = app [-5]\n",
    "        \n",
    "        if genre_app == genre:\n",
    "            rating_number = float(app[5])\n",
    "            total += rating_number\n",
    "            len_genre +=1\n",
    "        \n",
    "    avg_ratings = total/len_genre\n",
    "    print(genre,':', round(avg_ratings,2))\n",
    "   "
   ]
  },
  {
   "cell_type": "markdown",
   "metadata": {},
   "source": [
    "By far Navigation rates the highest in ratings numbers at 85k lets see why."
   ]
  },
  {
   "cell_type": "code",
   "execution_count": 21,
   "metadata": {
    "collapsed": false
   },
   "outputs": [
    {
     "name": "stdout",
     "output_type": "stream",
     "text": [
      "Waze - GPS Navigation, Maps & Real-time Traffic : 345046\n",
      "Google Maps - Navigation & Transit : 154911\n",
      "Geocaching® : 12811\n",
      "CoPilot GPS – Car Navigation & Offline Maps : 3582\n",
      "ImmobilienScout24: Real Estate Search in Germany : 187\n",
      "Railway Route Search : 5\n"
     ]
    }
   ],
   "source": [
    "for app in ios_final:\n",
    "    if app[-5] == 'Navigation':\n",
    "        print(app[1],':',app[5])#Print out name and number of ratings"
   ]
  },
  {
   "cell_type": "markdown",
   "metadata": {},
   "source": [
    "Navigation is ruled by 'Waze' and 'Google Maps' not too surprising since most people who have a phone utilize one of these apps for day to day activities.  This category as well as music, and social media are dominated by the popularity a few giants. These areas are most likely not the best ones for our small company to break into. Lets look at the next most popular app, 'Reference' at 74k ratings. "
   ]
  },
  {
   "cell_type": "code",
   "execution_count": 22,
   "metadata": {
    "collapsed": false
   },
   "outputs": [
    {
     "name": "stdout",
     "output_type": "stream",
     "text": [
      "Bible : 985920\n",
      "Dictionary.com Dictionary & Thesaurus : 200047\n",
      "Dictionary.com Dictionary & Thesaurus for iPad : 54175\n",
      "Google Translate : 26786\n",
      "Muslim Pro: Ramadan 2017 Prayer Times, Azan, Quran : 18418\n",
      "New Furniture Mods - Pocket Wiki & Game Tools for Minecraft PC Edition : 17588\n",
      "Merriam-Webster Dictionary : 16849\n",
      "Night Sky : 12122\n",
      "City Maps for Minecraft PE - The Best Maps for Minecraft Pocket Edition (MCPE) : 8535\n",
      "LUCKY BLOCK MOD ™ for Minecraft PC Edition - The Best Pocket Wiki & Mods Installer Tools : 4693\n",
      "GUNS MODS for Minecraft PC Edition - Mods Tools : 1497\n",
      "Guides for Pokémon GO - Pokemon GO News and Cheats : 826\n",
      "WWDC : 762\n",
      "Horror Maps for Minecraft PE - Download The Scariest Maps for Minecraft Pocket Edition (MCPE) Free : 718\n",
      "VPN Express : 14\n",
      "Real Bike Traffic Rider Virtual Reality Glasses : 8\n",
      "教えて!goo : 0\n",
      "Jishokun-Japanese English Dictionary & Translator : 0\n"
     ]
    }
   ],
   "source": [
    "for app in ios_final:\n",
    "    if app[-5] == 'Reference':\n",
    "        print(app[1],':',app[5])#Print out name and number of ratings"
   ]
  },
  {
   "cell_type": "markdown",
   "metadata": {},
   "source": [
    "This genre makes use of two of the most popular books of all time: the bible and dictionary. It also features references for popular games. This might work well for our company. However, we should look at the Android market too.\n",
    "\n",
    "### <span style=\"color:green\"> Popular Apps by Genre on Google Play </span>\n",
    "\n",
    "For the Google apps, we will utilize the `Installs` column to identify the more popular apps. Before we can do this though. we will need to formulate the string into a numerical value."
   ]
  },
  {
   "cell_type": "code",
   "execution_count": 23,
   "metadata": {
    "collapsed": false
   },
   "outputs": [
    {
     "name": "stdout",
     "output_type": "stream",
     "text": [
      "PRODUCTIVITY : 16787331.34\n",
      "TOOLS : 10801391.3\n",
      "PERSONALIZATION : 5201482.61\n",
      "ENTERTAINMENT : 11640705.88\n",
      "EVENTS : 253542.22\n",
      "COMICS : 817657.27\n",
      "ART_AND_DESIGN : 1986335.09\n",
      "HEALTH_AND_FITNESS : 4188821.99\n",
      "MAPS_AND_NAVIGATION : 4056941.77\n",
      "BUSINESS : 1712290.15\n",
      "COMMUNICATION : 38456119.17\n",
      "TRAVEL_AND_LOCAL : 13984077.71\n",
      "NEWS_AND_MAGAZINES : 9549178.47\n",
      "AUTO_AND_VEHICLES : 647317.82\n",
      "MEDICAL : 120550.62\n",
      "PHOTOGRAPHY : 17840110.4\n",
      "WEATHER : 5074486.2\n",
      "EDUCATION : 1833495.15\n",
      "BOOKS_AND_REFERENCE : 8767811.89\n",
      "LIBRARIES_AND_DEMO : 638503.73\n",
      "FAMILY : 3695641.82\n",
      "SOCIAL : 23253652.13\n",
      "SHOPPING : 7036877.31\n",
      "FOOD_AND_DRINK : 1924897.74\n",
      "FINANCE : 1387692.48\n",
      "HOUSE_AND_HOME : 1331540.56\n",
      "GAME : 15588015.6\n",
      "DATING : 854028.83\n",
      "PARENTING : 542603.62\n",
      "SPORTS : 3638640.14\n",
      "LIFESTYLE : 1437816.27\n",
      "VIDEO_PLAYERS : 24727872.45\n",
      "BEAUTY : 513151.89\n"
     ]
    }
   ],
   "source": [
    "categories_android = frequency_table(android_final, 1)\n",
    "\n",
    "for category in categories_android:\n",
    "    total = 0\n",
    "    len_category = 0\n",
    "    for app in android_final:\n",
    "        category_app = app[1]\n",
    "        if category_app == category:            \n",
    "            n_installs = app[5]\n",
    "            n_installs = n_installs.replace(',', '')\n",
    "            n_installs = n_installs.replace('+', '')\n",
    "            total += float(n_installs)\n",
    "            len_category += 1\n",
    "    avg_n_installs = total / len_category\n",
    "    print(category, ':', round(avg_n_installs,2))"
   ]
  },
  {
   "cell_type": "code",
   "execution_count": null,
   "metadata": {
    "collapsed": true
   },
   "outputs": [],
   "source": []
  }
 ],
 "metadata": {
  "kernelspec": {
   "display_name": "Python 3",
   "language": "python",
   "name": "python3"
  },
  "language_info": {
   "codemirror_mode": {
    "name": "ipython",
    "version": 3
   },
   "file_extension": ".py",
   "mimetype": "text/x-python",
   "name": "python",
   "nbconvert_exporter": "python",
   "pygments_lexer": "ipython3",
   "version": "3.4.3"
  }
 },
 "nbformat": 4,
 "nbformat_minor": 2
}
